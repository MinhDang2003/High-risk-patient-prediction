{
 "cells": [
  {
   "cell_type": "code",
   "execution_count": 6,
   "metadata": {},
   "outputs": [
    {
     "name": "stdout",
     "output_type": "stream",
     "text": [
      "Requirement already satisfied: gdown==v4.6.3 in /Library/Frameworks/Python.framework/Versions/3.12/lib/python3.12/site-packages (4.6.3)\n",
      "Requirement already satisfied: filelock in /Library/Frameworks/Python.framework/Versions/3.12/lib/python3.12/site-packages (from gdown==v4.6.3) (3.16.1)\n",
      "Requirement already satisfied: requests[socks] in /Library/Frameworks/Python.framework/Versions/3.12/lib/python3.12/site-packages (from gdown==v4.6.3) (2.32.3)\n",
      "Requirement already satisfied: six in /Library/Frameworks/Python.framework/Versions/3.12/lib/python3.12/site-packages (from gdown==v4.6.3) (1.16.0)\n",
      "Requirement already satisfied: tqdm in /Library/Frameworks/Python.framework/Versions/3.12/lib/python3.12/site-packages (from gdown==v4.6.3) (4.67.1)\n",
      "Requirement already satisfied: beautifulsoup4 in /Library/Frameworks/Python.framework/Versions/3.12/lib/python3.12/site-packages (from gdown==v4.6.3) (4.12.3)\n",
      "Requirement already satisfied: soupsieve>1.2 in /Library/Frameworks/Python.framework/Versions/3.12/lib/python3.12/site-packages (from beautifulsoup4->gdown==v4.6.3) (2.6)\n",
      "Requirement already satisfied: charset-normalizer<4,>=2 in /Library/Frameworks/Python.framework/Versions/3.12/lib/python3.12/site-packages (from requests[socks]->gdown==v4.6.3) (3.4.0)\n",
      "Requirement already satisfied: idna<4,>=2.5 in /Library/Frameworks/Python.framework/Versions/3.12/lib/python3.12/site-packages (from requests[socks]->gdown==v4.6.3) (3.10)\n",
      "Requirement already satisfied: urllib3<3,>=1.21.1 in /Library/Frameworks/Python.framework/Versions/3.12/lib/python3.12/site-packages (from requests[socks]->gdown==v4.6.3) (2.2.3)\n",
      "Requirement already satisfied: certifi>=2017.4.17 in /Library/Frameworks/Python.framework/Versions/3.12/lib/python3.12/site-packages (from requests[socks]->gdown==v4.6.3) (2024.8.30)\n",
      "Requirement already satisfied: PySocks!=1.5.7,>=1.5.6 in /Library/Frameworks/Python.framework/Versions/3.12/lib/python3.12/site-packages (from requests[socks]->gdown==v4.6.3) (1.7.1)\n",
      "Note: you may need to restart the kernel to use updated packages.\n",
      "Downloading...\n",
      "From: https://drive.google.com/uc?id=1pF78VZnr3yG5o5x4xvAc7nS-YZlgzMK0\n",
      "To: /Users/minhdang/Library/CloudStorage/OneDrive-Personal/242/covid19.zip\n",
      "100%|██████████████████████████████████████| 4.89M/4.89M [00:01<00:00, 2.81MB/s]\n"
     ]
    }
   ],
   "source": [
    "#COVID 19\n",
    "%pip install gdown==v4.6.3\n",
    "!gdown 1pF78VZnr3yG5o5x4xvAc7nS-YZlgzMK0"
   ]
  }
 ],
 "metadata": {
  "kernelspec": {
   "display_name": "Python 3.12.2 (.venv)",
   "language": "python",
   "name": ".venv"
  },
  "language_info": {
   "codemirror_mode": {
    "name": "ipython",
    "version": 3
   },
   "file_extension": ".py",
   "mimetype": "text/x-python",
   "name": "python",
   "nbconvert_exporter": "python",
   "pygments_lexer": "ipython3",
   "version": "3.12.2"
  }
 },
 "nbformat": 4,
 "nbformat_minor": 2
}
